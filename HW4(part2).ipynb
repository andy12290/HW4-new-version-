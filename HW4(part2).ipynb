{
 "cells": [
  {
   "cell_type": "markdown",
   "metadata": {},
   "source": [
    "# Problem from pages 172-182, Only Odd examples"
   ]
  },
  {
   "cell_type": "markdown",
   "metadata": {},
   "source": [
    "# Problem numbers mention in each cell"
   ]
  },
  {
   "cell_type": "code",
   "execution_count": 5,
   "metadata": {
    "collapsed": true
   },
   "outputs": [],
   "source": [
    "# 1\n",
    "def main():\n",
    "    howMany(24)\n",
    "    print(' a pie')\n",
    "def howMany(num):\n",
    "    what(num)\n",
    "    print(' baked in', end = '')\n",
    "def what(num):\n",
    "    print(num, 'blackbird', end = '')"
   ]
  },
  {
   "cell_type": "code",
   "execution_count": 6,
   "metadata": {
    "collapsed": false
   },
   "outputs": [
    {
     "name": "stdout",
     "output_type": "stream",
     "text": [
      "24 blackbird baked in a pie\n"
     ]
    }
   ],
   "source": [
    "main()"
   ]
  },
  {
   "cell_type": "code",
   "execution_count": 7,
   "metadata": {
    "collapsed": true
   },
   "outputs": [],
   "source": [
    "# 3\n",
    "def main():\n",
    "    cost = 250\n",
    "    displyBill(cost, shippingCost(cost))\n",
    "def shippingCost(costofGoods):\n",
    "    if costofGoods < 60:\n",
    "        return 10\n",
    "    elif costofGoods < 100:\n",
    "        return 15\n",
    "    else:\n",
    "        return 20\n",
    "def displyBill(cost, addedcost):\n",
    "    print(\"cost\", cost)\n",
    "    print(\"added cost\", addedcost)\n",
    "    print(\"total cost\", cost+addedcost)"
   ]
  },
  {
   "cell_type": "code",
   "execution_count": 8,
   "metadata": {
    "collapsed": false
   },
   "outputs": [
    {
     "name": "stdout",
     "output_type": "stream",
     "text": [
      "cost 250\n",
      "added cost 20\n",
      "total cost 270\n"
     ]
    }
   ],
   "source": [
    "main()"
   ]
  },
  {
   "cell_type": "code",
   "execution_count": 16,
   "metadata": {
    "collapsed": true
   },
   "outputs": [],
   "source": [
    "# 5\n",
    "def main():\n",
    "    gradelist = list(getThreegrades())\n",
    "    gradelist.sort()\n",
    "    print(gradelist)\n",
    "def getThreegrades():\n",
    "    x = int(input(\"Enter input for grade1: \"))\n",
    "    y = int(input(\"Enter input for grade2: \"))\n",
    "    z = int(input(\"Enter input for grade3: \"))\n",
    "    return x, y, z"
   ]
  },
  {
   "cell_type": "code",
   "execution_count": 17,
   "metadata": {
    "collapsed": false
   },
   "outputs": [
    {
     "name": "stdout",
     "output_type": "stream",
     "text": [
      "Enter input for grade1: 90\n",
      "Enter input for grade2: 89\n",
      "Enter input for grade3: 90\n",
      "[89, 90, 90]\n"
     ]
    }
   ],
   "source": [
    "main()"
   ]
  },
  {
   "cell_type": "code",
   "execution_count": 26,
   "metadata": {
    "collapsed": false
   },
   "outputs": [
    {
     "name": "stdout",
     "output_type": "stream",
     "text": [
      "['pear', 'banana', 'apple']\n",
      "['banana', 'apple', 'pear']\n"
     ]
    }
   ],
   "source": [
    "# 7\n",
    "list1 = ['pear', 'banana', 'apple']\n",
    "list1.sort(reverse = True)\n",
    "print(list1)\n",
    "list1.sort(key =lambda x: len(x), reverse= True)\n",
    "print(list1)\n"
   ]
  },
  {
   "cell_type": "code",
   "execution_count": 27,
   "metadata": {
    "collapsed": true
   },
   "outputs": [],
   "source": [
    "# 9 , # 11\n",
    "def main():\n",
    "    display('nudge')\n",
    "    display('nudge', 4)\n",
    "def display(x, times =2):\n",
    "    print(x* times)"
   ]
  },
  {
   "cell_type": "code",
   "execution_count": 28,
   "metadata": {
    "collapsed": false
   },
   "outputs": [
    {
     "name": "stdout",
     "output_type": "stream",
     "text": [
      "nudgenudge\n",
      "nudgenudgenudgenudge\n"
     ]
    }
   ],
   "source": [
    "main()"
   ]
  },
  {
   "cell_type": "code",
   "execution_count": 32,
   "metadata": {
    "collapsed": false
   },
   "outputs": [
    {
     "name": "stdout",
     "output_type": "stream",
     "text": [
      "Jhon adam\n",
      "Geroge\n"
     ]
    }
   ],
   "source": [
    "# 13\n",
    "president = [('Jhon adam', 61),('Geroge', 78)]\n",
    "president.sort(key=lambda x :x[1])\n",
    "\n",
    "for x in president:\n",
    "    print(x[0])"
   ]
  },
  {
   "cell_type": "code",
   "execution_count": 12,
   "metadata": {
    "collapsed": true
   },
   "outputs": [],
   "source": [
    "# 15\n",
    "def main():\n",
    "    composer = [\"Aniket devidas kale\", \"Sachin ramesh tendulkar\", \"andy david ke\"]\n",
    "    for row in composer:\n",
    "        print(middleName(row))\n",
    "def middleName(composer):\n",
    "    complist= composer.split()\n",
    "    return complist[1]"
   ]
  },
  {
   "cell_type": "code",
   "execution_count": 13,
   "metadata": {
    "collapsed": false
   },
   "outputs": [
    {
     "name": "stdout",
     "output_type": "stream",
     "text": [
      "devidas\n",
      "ramesh\n",
      "david\n"
     ]
    }
   ],
   "source": [
    "main()"
   ]
  },
  {
   "cell_type": "code",
   "execution_count": 22,
   "metadata": {
    "collapsed": false
   },
   "outputs": [],
   "source": [
    "# Problem 17\n",
    "def main():\n",
    "    list1 = sorted(\"AlmosT\")\n",
    "    print(list1)\n",
    "    list2 = sorted(\"alMost\", key = f)\n",
    "    print(list2)\n",
    "def f(letter):\n",
    "    return letter.lower()"
   ]
  },
  {
   "cell_type": "code",
   "execution_count": 23,
   "metadata": {
    "collapsed": false
   },
   "outputs": [
    {
     "name": "stdout",
     "output_type": "stream",
     "text": [
      "['A', 'T', 'l', 'm', 'o', 's']\n",
      "['a', 'l', 'M', 'o', 's', 't']\n"
     ]
    }
   ],
   "source": [
    "main()"
   ]
  },
  {
   "cell_type": "code",
   "execution_count": 25,
   "metadata": {
    "collapsed": false
   },
   "outputs": [
    {
     "name": "stdout",
     "output_type": "stream",
     "text": [
      "C,C++,Java,Ruby on Rails,python,"
     ]
    }
   ],
   "source": [
    "# 19\n",
    "lang = ['python', \"C\", 'C++', \"Java\", \"Ruby on Rails\"]\n",
    "for item in sorted(lang):\n",
    "    print(item, end = \",\")"
   ]
  },
  {
   "cell_type": "code",
   "execution_count": 30,
   "metadata": {
    "collapsed": false
   },
   "outputs": [
    {
     "name": "stdout",
     "output_type": "stream",
     "text": [
      "-2,1,3,4,6,"
     ]
    }
   ],
   "source": [
    "# 21 AND # 23 same problem only numbers getting change\n",
    "numbers = [1, 4, 6, 3 , -2]\n",
    "for item in sorted(numbers, key = lambda x: x ** 3):\n",
    "    print(item, end = \",\")"
   ]
  },
  {
   "cell_type": "code",
   "execution_count": 35,
   "metadata": {
    "collapsed": false
   },
   "outputs": [
    {
     "data": {
      "text/plain": [
       "['Aniket', 'Asim', 'Ritin', 'Swati', 'Ankita']"
      ]
     },
     "execution_count": 35,
     "metadata": {},
     "output_type": "execute_result"
    }
   ],
   "source": [
    "# 25\n",
    "list3 = [word.title() for word in list1]\n",
    "list3"
   ]
  },
  {
   "cell_type": "code",
   "execution_count": 32,
   "metadata": {
    "collapsed": false
   },
   "outputs": [
    {
     "name": "stdout",
     "output_type": "stream",
     "text": [
      "['ANIKET', 'ASIM', 'RITIN', 'SWATI', 'ANKITA']\n"
     ]
    }
   ],
   "source": [
    "# 27\n",
    "list1 = ['aniket', 'asim', 'ritin', 'swati', 'ankita']\n",
    "list2 = [word.upper() for word in list1]\n",
    "print(list2)"
   ]
  },
  {
   "cell_type": "code",
   "execution_count": 39,
   "metadata": {
    "collapsed": false
   },
   "outputs": [
    {
     "data": {
      "text/plain": [
       "['ri', 'sw']"
      ]
     },
     "execution_count": 39,
     "metadata": {},
     "output_type": "execute_result"
    }
   ],
   "source": [
    "# 29\n",
    "list2 = [x[0:2] for x in list1 if len(x) % 2 == 1]\n",
    "list2"
   ]
  },
  {
   "cell_type": "code",
   "execution_count": 5,
   "metadata": {
    "collapsed": false
   },
   "outputs": [
    {
     "data": {
      "text/plain": [
       "['aniket', 'asim', 'amol']"
      ]
     },
     "execution_count": 5,
     "metadata": {},
     "output_type": "execute_result"
    }
   ],
   "source": [
    "# 31\n",
    "names = ['aniket', 'asim', 'amol']\n",
    "list1 = []\n",
    "for item in names:\n",
    "    list1.append(item.split()[-1])\n",
    "list1    "
   ]
  },
  {
   "cell_type": "code",
   "execution_count": 8,
   "metadata": {
    "collapsed": false
   },
   "outputs": [
    {
     "data": {
      "text/plain": [
       "['DELAWARE',\n",
       " 'PENNSYLVANIA',\n",
       " 'NEW JERSEY',\n",
       " 'GEORGIA',\n",
       " 'CONNECTICUT',\n",
       " 'MASSACHUSETTS',\n",
       " 'MARYLAND',\n",
       " 'SOUTH CAROLINA',\n",
       " 'NEW HAMPSHIRE',\n",
       " 'VIRGINIA',\n",
       " 'NEW YORK',\n",
       " 'NORTH CAROLINA',\n",
       " 'RHODE ISLAND',\n",
       " 'VERMONT',\n",
       " 'KENTUCKY',\n",
       " 'TENNESSEE',\n",
       " 'OHIO',\n",
       " 'LOUISIANA',\n",
       " 'INDIANA',\n",
       " 'MISSISSIPPI',\n",
       " 'ILLINOIS',\n",
       " 'ALABAMA',\n",
       " 'MAINE',\n",
       " 'MISSOURI',\n",
       " 'ARKANSAS',\n",
       " 'MICHIGAN',\n",
       " 'FLORIDA',\n",
       " 'TEXAS',\n",
       " 'IOWA',\n",
       " 'WISCONSIN',\n",
       " 'CALIFORNIA',\n",
       " 'MINNESOTA',\n",
       " 'OREGON',\n",
       " 'KANSAS',\n",
       " 'WEST VIRGINIA',\n",
       " 'NEVADA',\n",
       " 'NEBRASKA',\n",
       " 'COLORADO',\n",
       " 'NORTH DAKOTA',\n",
       " 'SOUTH DAKOTA',\n",
       " 'MONTANA',\n",
       " 'WASHINGTON',\n",
       " 'IDAHO',\n",
       " 'WYOMING',\n",
       " 'UTAH',\n",
       " 'OKLAHOMA',\n",
       " 'NEW MEXICO',\n",
       " 'ARIZONA',\n",
       " 'ALASKA',\n",
       " 'HAWAII']"
      ]
     },
     "execution_count": 8,
     "metadata": {},
     "output_type": "execute_result"
    }
   ],
   "source": [
    "# 33\n",
    "infile = open(\"States.txt\",'r')\n",
    "[item.rstrip().upper() for item in infile]"
   ]
  },
  {
   "cell_type": "code",
   "execution_count": 11,
   "metadata": {
    "collapsed": false
   },
   "outputs": [
    {
     "data": {
      "text/plain": [
       "['Ohio',\n",
       " 'Iowa',\n",
       " 'Utah',\n",
       " 'Maine',\n",
       " 'Texas',\n",
       " 'Idaho',\n",
       " 'Oregon',\n",
       " 'Kansas',\n",
       " 'Nevada',\n",
       " 'Alaska',\n",
       " 'Hawaii',\n",
       " 'Georgia',\n",
       " 'Vermont',\n",
       " 'Indiana',\n",
       " 'Alabama',\n",
       " 'Florida',\n",
       " 'Montana',\n",
       " 'Wyoming',\n",
       " 'Arizona',\n",
       " 'Delaware',\n",
       " 'Maryland',\n",
       " 'Virginia',\n",
       " 'New York',\n",
       " 'Kentucky',\n",
       " 'Illinois',\n",
       " 'Missouri',\n",
       " 'Arkansas',\n",
       " 'Michigan',\n",
       " 'Nebraska',\n",
       " 'Colorado',\n",
       " 'Oklahoma',\n",
       " 'Tennessee',\n",
       " 'Louisiana',\n",
       " 'Wisconsin',\n",
       " 'Minnesota',\n",
       " 'New Jersey',\n",
       " 'California',\n",
       " 'Washington',\n",
       " 'New Mexico',\n",
       " 'Connecticut',\n",
       " 'Mississippi',\n",
       " 'Pennsylvania',\n",
       " 'Rhode Island',\n",
       " 'North Dakota',\n",
       " 'South Dakota',\n",
       " 'Massachusetts',\n",
       " 'New Hampshire',\n",
       " 'West Virginia',\n",
       " 'South Carolina',\n",
       " 'North Carolina']"
      ]
     },
     "execution_count": 11,
     "metadata": {},
     "output_type": "execute_result"
    }
   ],
   "source": [
    "# 35\n",
    "infile = open(\"States.txt\",'r')\n",
    "sorted([line.rstrip() for line in infile], key = len)"
   ]
  },
  {
   "cell_type": "markdown",
   "metadata": {},
   "source": [
    "- 37\n",
    "- for function bestFilm(year, film, star)\n",
    "\n",
    "- our sequence should be in line while giving input year, film and star\n",
    "- 39\n",
    "- bestFilem(2012, \"Iron Man\", 'Sachin')\n",
    "\n",
    "- oterwise if you are mentioning the parameters in function and reverse the order,then its completely fine.\n",
    "- 41\n",
    "- bestFilem(year= 2016, star=\"sachin', filem = \"Iron Man\")\n",
    "\n"
   ]
  },
  {
   "cell_type": "markdown",
   "metadata": {},
   "source": [
    "- # 45\n",
    "- breakfast(spam =1, 1, eggs = 1, toast=2)\n",
    "- output would be positional argument follows keyword argument\n",
    "- we have to follow the arguments."
   ]
  },
  {
   "cell_type": "code",
   "execution_count": 1,
   "metadata": {
    "collapsed": false
   },
   "outputs": [
    {
     "name": "stdout",
     "output_type": "stream",
     "text": [
      "almost\n"
     ]
    }
   ],
   "source": [
    "# 47\n",
    "print(\"\".join(sorted(\"stomal\")))"
   ]
  },
  {
   "cell_type": "code",
   "execution_count": null,
   "metadata": {
    "collapsed": true
   },
   "outputs": [],
   "source": [
    "# 49"
   ]
  },
  {
   "cell_type": "code",
   "execution_count": 26,
   "metadata": {
    "collapsed": true
   },
   "outputs": [],
   "source": [
    "# 51\n",
    "# Anagrame solution\n",
    "def anagrame():\n",
    "    a = input(\"Enter string 1: \")\n",
    "    b = input(\"Enter string 2: \")\n",
    "    alist = list(a)\n",
    "    blist = list(b)\n",
    "    \n",
    "    alist.sort()\n",
    "    blist.sort()\n",
    "    \n",
    "    pos =0 \n",
    "    matches = True\n",
    "    \n",
    "    while pos < len(b) and matches:\n",
    "        if alist[pos] == blist[pos]:\n",
    "            pos = pos + 1 \n",
    "        else:\n",
    "            matches = False\n",
    "        return matches\n",
    "    "
   ]
  },
  {
   "cell_type": "code",
   "execution_count": 22,
   "metadata": {
    "collapsed": false
   },
   "outputs": [
    {
     "name": "stdout",
     "output_type": "stream",
     "text": [
      "Enter string 1: abcd\n",
      "Enter string 2: bcda\n"
     ]
    },
    {
     "data": {
      "text/plain": [
       "True"
      ]
     },
     "execution_count": 22,
     "metadata": {},
     "output_type": "execute_result"
    }
   ],
   "source": [
    "anagrame()"
   ]
  },
  {
   "cell_type": "code",
   "execution_count": 27,
   "metadata": {
    "collapsed": false
   },
   "outputs": [
    {
     "name": "stdout",
     "output_type": "stream",
     "text": [
      "Enter string 1: elvis\n",
      "Enter string 2: lives\n"
     ]
    },
    {
     "data": {
      "text/plain": [
       "True"
      ]
     },
     "execution_count": 27,
     "metadata": {},
     "output_type": "execute_result"
    }
   ],
   "source": [
    "anagrame()"
   ]
  },
  {
   "cell_type": "code",
   "execution_count": 54,
   "metadata": {
    "collapsed": false
   },
   "outputs": [
    {
     "name": "stdout",
     "output_type": "stream",
     "text": [
      "JohnsonAndrew\n",
      "KennedyJhon\n",
      "JohnsonLyndon\n"
     ]
    }
   ],
   "source": [
    "# 53\n",
    "# US president\n",
    "pres = [(\"Lyndon\", \"Johnson\"), ('John', 'Kennedy'), ('Andrew', 'Johnson')]\n",
    "pres = sorted(pres)\n",
    "    \n",
    "for X in pres:\n",
    "     print(X[1] + X[0], end = \"\\n\")"
   ]
  },
  {
   "cell_type": "code",
   "execution_count": 103,
   "metadata": {
    "collapsed": false
   },
   "outputs": [
    {
     "name": "stdout",
     "output_type": "stream",
     "text": [
      "Sorted by population [('Maine', 30840, '1.329'), ('New Hampshire', 9953, 1.321), ('Vermont', 9217, 0.629)]\n"
     ]
    }
   ],
   "source": [
    "# 55\n",
    "# Sorted by land area\n",
    "NE = [(\"Maine\",30840,'1.329'), (\"Vermont\", 9217, 0.629), (\"New Hampshire\", 9953, 1.321)]\n",
    "NE.sort(key = lambda X: X[1], reverse = True)\n",
    "\n",
    "print(\"Sorted by population\",NE)"
   ]
  },
  {
   "cell_type": "code",
   "execution_count": 110,
   "metadata": {
    "collapsed": false
   },
   "outputs": [
    {
     "name": "stdout",
     "output_type": "stream",
     "text": [
      "Sorted by land area Maine\n",
      "Sorted by land area New Hampshire\n",
      "Sorted by land area Vermont\n"
     ]
    }
   ],
   "source": [
    "\n",
    "for item in NE:\n",
    "    print(\"Sorted by land area\",item[0])"
   ]
  },
  {
   "cell_type": "code",
   "execution_count": 111,
   "metadata": {
    "collapsed": false
   },
   "outputs": [
    {
     "name": "stdout",
     "output_type": "stream",
     "text": [
      "Sorted by Population Maine\n",
      "Sorted by Population New Hampshire\n",
      "Sorted by Population Vermont\n"
     ]
    }
   ],
   "source": [
    "# 57\n",
    "# Sorted by population\n",
    "NE = [(\"Maine\",30840,'1.329'), (\"Vermont\", 9217, 0.629), (\"New Hampshire\", 9953, 1.321)]\n",
    "NE.sort(key = lambda X: float(X[2]), reverse = True)\n",
    "for item in NE:\n",
    "    print(\"Sorted by Population\", item[0])"
   ]
  },
  {
   "cell_type": "code",
   "execution_count": 116,
   "metadata": {
    "collapsed": false
   },
   "outputs": [
    {
     "name": "stdout",
     "output_type": "stream",
     "text": [
      "Sorted by Density Maine\n",
      "Sorted by Density Vermont\n",
      "Sorted by Density New Hampshire\n"
     ]
    }
   ],
   "source": [
    "# 59\n",
    "# Sorted by density\n",
    "NE = [(\"Maine\",30840,'1.329'), (\"Vermont\", 9217, 0.629), (\"New Hampshire\", 9953, 1.321)]\n",
    "NE.sort(key = lambda X: (float(X[2])/X[1]))\n",
    "for item in NE:\n",
    "    print(\"Sorted by Density\", item[0])"
   ]
  },
  {
   "cell_type": "code",
   "execution_count": 141,
   "metadata": {
    "collapsed": false
   },
   "outputs": [
    {
     "data": {
      "text/plain": [
       "['111', '213', '1234', '234', '657']"
      ]
     },
     "execution_count": 141,
     "metadata": {},
     "output_type": "execute_result"
    }
   ],
   "source": [
    "# 61\n",
    "# sorted by last digit\n",
    "\n",
    "numbers = ['111', '234', '657', '213', '1234']\n",
    "(numbers.sort(key = lambda x: x[2]))\n",
    "numbers"
   ]
  },
  {
   "cell_type": "code",
   "execution_count": 157,
   "metadata": {
    "collapsed": false
   },
   "outputs": [
    {
     "name": "stdout",
     "output_type": "stream",
     "text": [
      "John Adams\n",
      "\n",
      "John Tyler\n",
      "\n",
      "James Polk\n",
      "\n",
      "Gerald Ford\n",
      "\n",
      "Barack Obama\n",
      "James Monroe\n",
      "\n",
      "William Taft\n",
      "\n",
      "Harry Truman\n",
      "\n",
      "John Kennedy\n",
      "\n",
      "James Carter\n",
      "\n",
      "Bill Clinton\n",
      "\n",
      "James Madison\n",
      "\n",
      "John Q. Adams\n",
      "\n",
      "Ulysses Grant\n",
      "\n",
      "Richard Nixon\n",
      "\n",
      "Ronald Reagan\n",
      "\n",
      "Andrew Jackson\n",
      "\n",
      "Zachary Taylor\n",
      "\n",
      "James Buchanan\n",
      "\n",
      "Andrew Johnson\n",
      "\n",
      "James Garfield\n",
      "\n",
      "Chester Arthur\n",
      "\n",
      "Woodrow Wilson\n",
      "\n",
      "Warren Harding\n",
      "\n",
      "Herbert Hoover\n",
      "\n",
      "Lyndon Johnson\n",
      "\n",
      "George W. Bush\n",
      "\n",
      "Franklin Pierce\n",
      "\n",
      "Abraham Lincoln\n",
      "\n",
      "Calvin Coolidge\n",
      "\n",
      "Thomas Jefferson\n",
      "\n",
      "Martin Van_Buren\n",
      "\n",
      "William Harrison\n",
      "\n",
      "Millard Fillmore\n",
      "\n",
      "Rutherford Hayes\n",
      "\n",
      "Grover Cleveland\n",
      "\n",
      "Grover Cleveland\n",
      "\n",
      "William McKinley\n",
      "\n",
      "George Washington\n",
      "\n",
      "Benjamin Harrison\n",
      "\n",
      "Dwight Eisenhower\n",
      "\n",
      "George H. W. Bush\n",
      "\n",
      "Theodore Roosevelt\n",
      "\n",
      "Franklin Roosevelt\n",
      "\n"
     ]
    }
   ],
   "source": [
    "# 62\n",
    "# sorted presidient list by length of string\n",
    "file = open(\"USPres.txt\", 'r')\n",
    "file = list(file)\n",
    "file.sort(key = lambda X: len(X))\n",
    "for item in file:\n",
    "    print(item)"
   ]
  },
  {
   "cell_type": "code",
   "execution_count": 158,
   "metadata": {
    "collapsed": false
   },
   "outputs": [
    {
     "name": "stdout",
     "output_type": "stream",
     "text": [
      "Ohio\n",
      "\n",
      "Iowa\n",
      "\n",
      "Utah\n",
      "\n",
      "Maine\n",
      "\n",
      "Texas\n",
      "\n",
      "Idaho\n",
      "\n",
      "Hawaii\n",
      "Oregon\n",
      "\n",
      "Kansas\n",
      "\n",
      "Nevada\n",
      "\n",
      "Alaska\n",
      "\n",
      "Georgia\n",
      "\n",
      "Vermont\n",
      "\n",
      "Indiana\n",
      "\n",
      "Alabama\n",
      "\n",
      "Florida\n",
      "\n",
      "Montana\n",
      "\n",
      "Wyoming\n",
      "\n",
      "Arizona\n",
      "\n",
      "Delaware\n",
      "\n",
      "Maryland\n",
      "\n",
      "Virginia\n",
      "\n",
      "New York\n",
      "\n",
      "Kentucky\n",
      "\n",
      "Illinois\n",
      "\n",
      "Missouri\n",
      "\n",
      "Arkansas\n",
      "\n",
      "Michigan\n",
      "\n",
      "Nebraska\n",
      "\n",
      "Colorado\n",
      "\n",
      "Oklahoma\n",
      "\n",
      "Tennessee\n",
      "\n",
      "Louisiana\n",
      "\n",
      "Wisconsin\n",
      "\n",
      "Minnesota\n",
      "\n",
      "New Jersey\n",
      "\n",
      "California\n",
      "\n",
      "Washington\n",
      "\n",
      "New Mexico\n",
      "\n",
      "Connecticut\n",
      "\n",
      "Mississippi\n",
      "\n",
      "Pennsylvania\n",
      "\n",
      "Rhode Island\n",
      "\n",
      "North Dakota\n",
      "\n",
      "South Dakota\n",
      "\n",
      "Massachusetts\n",
      "\n",
      "New Hampshire\n",
      "\n",
      "West Virginia\n",
      "\n",
      "South Carolina\n",
      "\n",
      "North Carolina\n",
      "\n"
     ]
    }
   ],
   "source": [
    "# 63\n",
    "file = open(\"States.txt\", 'r')\n",
    "file = list(file)\n",
    "file.sort(key = lambda X: len(X))\n",
    "for item in file:\n",
    "    print(item)"
   ]
  },
  {
   "cell_type": "code",
   "execution_count": 174,
   "metadata": {
    "collapsed": false
   },
   "outputs": [],
   "source": [
    "# 65\n",
    "# sorted by number of vowels in file.\n",
    "def main():\n",
    "    file = open(\"States.txt\", 'r')\n",
    "    file = list(file)\n",
    "    file.sort(key = lambda X: numOfVowels(X))\n",
    "    for item in file:\n",
    "        print(item)\n",
    "def numOfVowels(word):\n",
    "    return len([ch for ch in word if (ch in \"aeiou\")])\n",
    "            "
   ]
  },
  {
   "cell_type": "code",
   "execution_count": 175,
   "metadata": {
    "collapsed": false
   },
   "outputs": [
    {
     "name": "stdout",
     "output_type": "stream",
     "text": [
      "Utah\n",
      "\n",
      "Maryland\n",
      "\n",
      "New York\n",
      "\n",
      "Vermont\n",
      "\n",
      "Kentucky\n",
      "\n",
      "Ohio\n",
      "\n",
      "Arkansas\n",
      "\n",
      "Texas\n",
      "\n",
      "Iowa\n",
      "\n",
      "Oregon\n",
      "\n",
      "Kansas\n",
      "\n",
      "Idaho\n",
      "\n",
      "Wyoming\n",
      "\n",
      "Alaska\n",
      "\n",
      "New Jersey\n",
      "\n",
      "Rhode Island\n",
      "\n",
      "Indiana\n",
      "\n",
      "Illinois\n",
      "\n",
      "Alabama\n",
      "\n",
      "Maine\n",
      "\n",
      "Michigan\n",
      "\n",
      "Florida\n",
      "\n",
      "Wisconsin\n",
      "\n",
      "Nevada\n",
      "\n",
      "Nebraska\n",
      "\n",
      "Montana\n",
      "\n",
      "Washington\n",
      "\n",
      "Oklahoma\n",
      "\n",
      "Arizona\n",
      "\n",
      "Delaware\n",
      "\n",
      "Pennsylvania\n",
      "\n",
      "Georgia\n",
      "\n",
      "Connecticut\n",
      "\n",
      "Massachusetts\n",
      "\n",
      "New Hampshire\n",
      "\n",
      "Virginia\n",
      "\n",
      "Tennessee\n",
      "\n",
      "Mississippi\n",
      "\n",
      "Missouri\n",
      "\n",
      "Minnesota\n",
      "\n",
      "Colorado\n",
      "\n",
      "North Dakota\n",
      "\n",
      "New Mexico\n",
      "\n",
      "Hawaii\n",
      "North Carolina\n",
      "\n",
      "California\n",
      "\n",
      "West Virginia\n",
      "\n",
      "South Dakota\n",
      "\n",
      "South Carolina\n",
      "\n",
      "Louisiana\n",
      "\n"
     ]
    }
   ],
   "source": [
    "main()"
   ]
  },
  {
   "cell_type": "markdown",
   "metadata": {},
   "source": [
    "* In this assignment, I learned how to sort the list or tuples by using the length and num of vowels"
   ]
  },
  {
   "cell_type": "code",
   "execution_count": 3,
   "metadata": {
    "collapsed": true
   },
   "outputs": [],
   "source": [
    "# 68"
   ]
  },
  {
   "cell_type": "code",
   "execution_count": null,
   "metadata": {
    "collapsed": true
   },
   "outputs": [],
   "source": [
    "# 69"
   ]
  }
 ],
 "metadata": {
  "anaconda-cloud": {},
  "kernelspec": {
   "display_name": "Python [Root]",
   "language": "python",
   "name": "Python [Root]"
  },
  "language_info": {
   "codemirror_mode": {
    "name": "ipython",
    "version": 3
   },
   "file_extension": ".py",
   "mimetype": "text/x-python",
   "name": "python",
   "nbconvert_exporter": "python",
   "pygments_lexer": "ipython3",
   "version": "3.5.3"
  }
 },
 "nbformat": 4,
 "nbformat_minor": 0
}
