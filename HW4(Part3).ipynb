{
 "cells": [
  {
   "cell_type": "markdown",
   "metadata": {},
   "source": [
    "# Programming Projects"
   ]
  },
  {
   "cell_type": "markdown",
   "metadata": {},
   "source": [
    "* Name : Aniket Devidas Kale\n",
    "* Class : DSS770    "
   ]
  },
  {
   "cell_type": "markdown",
   "metadata": {},
   "source": [
    "# 1"
   ]
  },
  {
   "cell_type": "code",
   "execution_count": 6,
   "metadata": {
    "collapsed": false
   },
   "outputs": [
    {
     "name": "stdout",
     "output_type": "stream",
     "text": [
      "Enter a height of Ball: 5\n",
      "Enter a velocity : 34\n",
      "The maximum height of the ball in the feet 23.0625\n"
     ]
    }
   ],
   "source": [
    "# Velocity and  height  problem\n",
    "h = eval(input(\"Enter a height of Ball: \"))\n",
    "v = eval(input(\"Enter a velocity : \"))\n",
    "t = v/32 # maximum height after this\n",
    "d = h + (v*t) - 16*(t)**2\n",
    "print(\"The maximum height of the ball in the feet\", d)\n",
    " "
   ]
  },
  {
   "cell_type": "markdown",
   "metadata": {},
   "source": [
    "# 2"
   ]
  },
  {
   "cell_type": "code",
   "execution_count": 1,
   "metadata": {
    "collapsed": false
   },
   "outputs": [],
   "source": [
    "# 2\n",
    "# Largest prime factor\n",
    "def largest_prime_factor():\n",
    "    num = int(input(\"Enter an number: \"))\n",
    "    i = 2\n",
    "    factor =[]\n",
    "    while (i * i <= num):\n",
    "            if num % i :\n",
    "                i = i + 1\n",
    "                factor.append(i)    \n",
    "            else:\n",
    "                num //= i\n",
    "    print(\"largest Prime Factor\",i)\n",
    "    print(\"Prime Factors in list form\",factor)\n",
    "    "
   ]
  },
  {
   "cell_type": "code",
   "execution_count": 2,
   "metadata": {
    "collapsed": false
   },
   "outputs": [
    {
     "name": "stdout",
     "output_type": "stream",
     "text": [
      "Enter an number: 2345\n",
      "largest Prime Factor 9\n",
      "Prime Factors in list form [3, 4, 5, 6, 7, 8, 9]\n"
     ]
    }
   ],
   "source": [
    "largest_prime_factor()"
   ]
  },
  {
   "cell_type": "markdown",
   "metadata": {},
   "source": [
    "# 3"
   ]
  },
  {
   "cell_type": "code",
   "execution_count": 3,
   "metadata": {
    "collapsed": true
   },
   "outputs": [],
   "source": [
    "# 3\n",
    "# varbalization number\n",
    "def varaBalizeNumber():\n",
    "    num = (input(\"Enter a 27digit number: \"))\n",
    "    num = list(num)\n",
    "    print(num)"
   ]
  },
  {
   "cell_type": "code",
   "execution_count": 4,
   "metadata": {
    "collapsed": false
   },
   "outputs": [
    {
     "name": "stdout",
     "output_type": "stream",
     "text": [
      "Enter a 27digit number: 123456789000000000123456789\n",
      "['1', '2', '3', '4', '5', '6', '7', '8', '9', '0', '0', '0', '0', '0', '0', '0', '0', '0', '1', '2', '3', '4', '5', '6', '7', '8', '9']\n"
     ]
    }
   ],
   "source": [
    "varaBalizeNumber()"
   ]
  },
  {
   "cell_type": "markdown",
   "metadata": {},
   "source": [
    "# 4"
   ]
  },
  {
   "cell_type": "code",
   "execution_count": 21,
   "metadata": {
    "collapsed": false
   },
   "outputs": [
    {
     "name": "stdout",
     "output_type": "stream",
     "text": [
      "Enter a type of device: computer\n",
      "Enter an purchaed year: 2012\n",
      "Enter cost of year: 2000\n",
      "Enter a method SL or DDB: SL\n",
      "5\n",
      "cost 1000.0\n"
     ]
    }
   ],
   "source": [
    "# 4\n",
    "# Enter values for SL or DDB\n",
    "device = (input(\"Enter a type of device: \"))\n",
    "year = int(input(\"Enter an purchaed year: \"))\n",
    "cost = int(input(\"Enter cost of year: \"))\n",
    "method = (input(\"Enter a method SL or DDB: \"))\n",
    "\n",
    "c_year = int(2017 -year)\n",
    "print(c_year)\n",
    "if method == \"SL\":\n",
    "    for item in range(year,2017):\n",
    "        cos = cost/2\n",
    "    print(\"cost\", cos)\n",
    "else:\n",
    "    for item in range(year,2017):\n",
    "        cost = item**1/2\n",
    "    print(\"DDB\", cost)"
   ]
  },
  {
   "cell_type": "markdown",
   "metadata": {},
   "source": [
    "# 5"
   ]
  },
  {
   "cell_type": "code",
   "execution_count": 23,
   "metadata": {
    "collapsed": true
   },
   "outputs": [],
   "source": [
    "# 5\n",
    "# Alphabetical order or not\n",
    "def alphaOrder(word):\n",
    "    word1 = sorted(word)\n",
    "    word2 = []\n",
    "    for i in word:\n",
    "        word2.append(i)\n",
    "    if word2 == word1:\n",
    "        return True\n",
    "    else:\n",
    "        return False"
   ]
  },
  {
   "cell_type": "code",
   "execution_count": 26,
   "metadata": {
    "collapsed": false
   },
   "outputs": [
    {
     "data": {
      "text/plain": [
       "False"
      ]
     },
     "execution_count": 26,
     "metadata": {},
     "output_type": "execute_result"
    }
   ],
   "source": [
    "# Testing order\n",
    "alphaOrder(\"aniket\")"
   ]
  },
  {
   "cell_type": "code",
   "execution_count": 27,
   "metadata": {
    "collapsed": false
   },
   "outputs": [
    {
     "data": {
      "text/plain": [
       "True"
      ]
     },
     "execution_count": 27,
     "metadata": {},
     "output_type": "execute_result"
    }
   ],
   "source": [
    "# testing order\n",
    "alphaOrder(\"abcd\")"
   ]
  },
  {
   "cell_type": "code",
   "execution_count": null,
   "metadata": {
    "collapsed": true
   },
   "outputs": [],
   "source": [
    "# 6 \n"
   ]
  }
 ],
 "metadata": {
  "kernelspec": {
   "display_name": "Python [Root]",
   "language": "python",
   "name": "Python [Root]"
  },
  "language_info": {
   "codemirror_mode": {
    "name": "ipython",
    "version": 3
   },
   "file_extension": ".py",
   "mimetype": "text/x-python",
   "name": "python",
   "nbconvert_exporter": "python",
   "pygments_lexer": "ipython3",
   "version": "3.5.3"
  }
 },
 "nbformat": 4,
 "nbformat_minor": 0
}
