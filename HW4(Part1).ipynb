{
 "cells": [
  {
   "cell_type": "markdown",
   "metadata": {},
   "source": [
    "* Name: Aniket Kale\n",
    "* Class : DSS770\n",
    "* Functions    "
   ]
  },
  {
   "cell_type": "markdown",
   "metadata": {},
   "source": [
    "# Problems Pages 157-164 : Odd examples"
   ]
  },
  {
   "cell_type": "markdown",
   "metadata": {},
   "source": [
    "\"To create architecture is to put in order. Put what in order? Function\n",
    "and objects.\" Le Corbusier"
   ]
  },
  {
   "cell_type": "markdown",
   "metadata": {},
   "source": [
    "- What is function ?\n",
    "- Function is block, set of code or instructions to execute in order to get the output."
   ]
  },
  {
   "cell_type": "markdown",
   "metadata": {},
   "source": [
    "# Problem numbers mentioned in each cell"
   ]
  },
  {
   "cell_type": "code",
   "execution_count": 1,
   "metadata": {
    "collapsed": false
   },
   "outputs": [],
   "source": [
    "# sample example not from book.\n",
    "def addition(a,b):\n",
    "    c = a+b\n",
    "    return c"
   ]
  },
  {
   "cell_type": "code",
   "execution_count": 2,
   "metadata": {
    "collapsed": false
   },
   "outputs": [
    {
     "data": {
      "text/plain": [
       "7"
      ]
     },
     "execution_count": 2,
     "metadata": {},
     "output_type": "execute_result"
    }
   ],
   "source": [
    "addition(3,4)"
   ]
  },
  {
   "cell_type": "code",
   "execution_count": 3,
   "metadata": {
    "collapsed": true
   },
   "outputs": [],
   "source": [
    "# 1\n",
    "def main():\n",
    "    print(uc('h'))\n",
    "    print(uc('w'))    "
   ]
  },
  {
   "cell_type": "code",
   "execution_count": 4,
   "metadata": {
    "collapsed": true
   },
   "outputs": [],
   "source": [
    "def uc(letter):\n",
    "    if letter == \"h\":\n",
    "        return H\n",
    "    else:\n",
    "        return letter    "
   ]
  },
  {
   "cell_type": "code",
   "execution_count": 5,
   "metadata": {
    "collapsed": false
   },
   "outputs": [
    {
     "data": {
      "text/plain": [
       "'Aniket'"
      ]
     },
     "execution_count": 5,
     "metadata": {},
     "output_type": "execute_result"
    }
   ],
   "source": [
    "uc('Aniket')"
   ]
  },
  {
   "cell_type": "code",
   "execution_count": 6,
   "metadata": {
    "collapsed": true
   },
   "outputs": [],
   "source": [
    "# 3\n",
    "def example():\n",
    "    p = float(input(\"Enter the population growth as a percent: \"))\n",
    "    print('the Population will double', end=\" \")\n",
    "    print('in about years.',(doublingtime(p)))\n",
    "def doublingtime(x):\n",
    "    time = 72/x\n",
    "    return time"
   ]
  },
  {
   "cell_type": "code",
   "execution_count": 7,
   "metadata": {
    "collapsed": false
   },
   "outputs": [
    {
     "name": "stdout",
     "output_type": "stream",
     "text": [
      "Enter the population growth as a percent: 12\n",
      "the Population will double in about years. 6.0\n"
     ]
    }
   ],
   "source": [
    "example()"
   ]
  },
  {
   "cell_type": "code",
   "execution_count": 8,
   "metadata": {
    "collapsed": true
   },
   "outputs": [],
   "source": [
    "# 5\n",
    "def main():\n",
    "    taxincome = 16000\n",
    "    print('your income tax is $',(statTax(taxincome)))\n",
    "def statTax(income):\n",
    "    if income < 15000:\n",
    "        return 0.03 * income\n",
    "    else:\n",
    "        return 450 +(0.49* (income-15000))\n",
    "    "
   ]
  },
  {
   "cell_type": "code",
   "execution_count": 9,
   "metadata": {
    "collapsed": false
   },
   "outputs": [
    {
     "name": "stdout",
     "output_type": "stream",
     "text": [
      "your income tax is $ 940.0\n"
     ]
    }
   ],
   "source": [
    "main()"
   ]
  },
  {
   "cell_type": "code",
   "execution_count": 10,
   "metadata": {
    "collapsed": true
   },
   "outputs": [],
   "source": [
    "# 7\n",
    "def main():\n",
    "    questions()\n",
    "    answer()\n",
    "def answer():\n",
    "    print('my name is Aniket')\n",
    "    print('Kale')\n",
    "def questions():\n",
    "    print('what is your name ?')"
   ]
  },
  {
   "cell_type": "code",
   "execution_count": 11,
   "metadata": {
    "collapsed": false
   },
   "outputs": [
    {
     "name": "stdout",
     "output_type": "stream",
     "text": [
      "what is your name ?\n",
      "my name is Aniket\n",
      "Kale\n"
     ]
    }
   ],
   "source": [
    "main()"
   ]
  },
  {
   "cell_type": "code",
   "execution_count": 12,
   "metadata": {
    "collapsed": true
   },
   "outputs": [],
   "source": [
    "# 9\n",
    "def main():\n",
    "    sentence(168, 'hour', 'a week')\n",
    "    sentence(76, 'trembone', 'the big parde')\n",
    "def sentence(num, thing, where):\n",
    "    print(num, thing + 's in' , where)\n",
    "    "
   ]
  },
  {
   "cell_type": "code",
   "execution_count": 13,
   "metadata": {
    "collapsed": false
   },
   "outputs": [
    {
     "name": "stdout",
     "output_type": "stream",
     "text": [
      "168 hours in a week\n",
      "76 trembones in the big parde\n"
     ]
    }
   ],
   "source": [
    "main()"
   ]
  },
  {
   "cell_type": "code",
   "execution_count": 14,
   "metadata": {
    "collapsed": true
   },
   "outputs": [],
   "source": [
    "# 11\n",
    "def main():\n",
    "    press = 'Bush'\n",
    "    college = \"Yale\"\n",
    "    pressAlmamatter(press, college)\n",
    "    press = 'obama'\n",
    "    college = 'columbia'\n",
    "    pressAlmamatter(press,college)\n",
    "def pressAlmamatter(press, college):\n",
    "    print('president', press, 'is graduate of', college)"
   ]
  },
  {
   "cell_type": "code",
   "execution_count": 15,
   "metadata": {
    "collapsed": false
   },
   "outputs": [
    {
     "name": "stdout",
     "output_type": "stream",
     "text": [
      "president Bush is graduate of Yale\n",
      "president obama is graduate of columbia\n"
     ]
    }
   ],
   "source": [
    "main()"
   ]
  },
  {
   "cell_type": "code",
   "execution_count": 16,
   "metadata": {
    "collapsed": true
   },
   "outputs": [],
   "source": [
    "# 13\n",
    "x = 7\n",
    "def main():\n",
    "    x = 5\n",
    "    f ()\n",
    "    print(x)\n",
    "def f():\n",
    "    print(x)\n",
    "    "
   ]
  },
  {
   "cell_type": "code",
   "execution_count": 17,
   "metadata": {
    "collapsed": false
   },
   "outputs": [
    {
     "name": "stdout",
     "output_type": "stream",
     "text": [
      "7\n",
      "5\n"
     ]
    }
   ],
   "source": [
    "main()"
   ]
  },
  {
   "cell_type": "code",
   "execution_count": 18,
   "metadata": {
    "collapsed": false
   },
   "outputs": [
    {
     "name": "stdout",
     "output_type": "stream",
     "text": [
      "Fredrick\n"
     ]
    }
   ],
   "source": [
    "# 15\n",
    "name = 'Fred'\n",
    "def main():\n",
    "    global name \n",
    "    otherName = getname()\n",
    "    name += otherName\n",
    "    print(name)\n",
    "def getname():\n",
    "    name = \"rick\"\n",
    "    return name\n",
    "main()"
   ]
  },
  {
   "cell_type": "code",
   "execution_count": 19,
   "metadata": {
    "collapsed": false
   },
   "outputs": [],
   "source": [
    "# 17\n",
    "Sales_tax_rate = 0.06\n",
    "def main():\n",
    "    price = 100\n",
    "    cost = (1+ Sales_tax_rate) * price\n",
    "    print(\"Total cost:\",(cost))"
   ]
  },
  {
   "cell_type": "code",
   "execution_count": 20,
   "metadata": {
    "collapsed": false
   },
   "outputs": [
    {
     "name": "stdout",
     "output_type": "stream",
     "text": [
      "Total cost: 106.0\n"
     ]
    }
   ],
   "source": [
    "main()"
   ]
  },
  {
   "cell_type": "code",
   "execution_count": 21,
   "metadata": {
    "collapsed": false
   },
   "outputs": [],
   "source": [
    "# 19\n",
    "def main():\n",
    "    num = 5\n",
    "    triple(num)\n",
    "    print(num)\n",
    "def triple(num):\n",
    "    num = 3*num"
   ]
  },
  {
   "cell_type": "code",
   "execution_count": 22,
   "metadata": {
    "collapsed": false
   },
   "outputs": [
    {
     "name": "stdout",
     "output_type": "stream",
     "text": [
      "5\n"
     ]
    }
   ],
   "source": [
    "main()"
   ]
  },
  {
   "cell_type": "code",
   "execution_count": 23,
   "metadata": {
    "collapsed": false
   },
   "outputs": [],
   "source": [
    "# 21\n",
    "# file processing\n",
    "def obtainlist(file):\n",
    "    infile = open(\"Independence(1).txt\",'r')\n",
    "    independentlist = [line.rstrip() for line in infile]\n",
    "    infile.close()\n",
    "    return independentlist"
   ]
  },
  {
   "cell_type": "code",
   "execution_count": 24,
   "metadata": {
    "collapsed": false
   },
   "outputs": [
    {
     "data": {
      "text/plain": [
       "['When', 'in', 'the', 'course', 'of', 'human', 'events']"
      ]
     },
     "execution_count": 24,
     "metadata": {},
     "output_type": "execute_result"
    }
   ],
   "source": [
    "obtainlist(\"Independence(1).txt\")"
   ]
  },
  {
   "cell_type": "code",
   "execution_count": 25,
   "metadata": {
    "collapsed": false
   },
   "outputs": [],
   "source": [
    "# 23\n",
    "# Calculate the Grade 23\n",
    "\n",
    "def main():\n",
    "    grade = getAverageGrade()\n",
    "    typeOfStudent =getTypeOfStudent()\n",
    "    if typeOfStudent == \"PASS/FAIL\":\n",
    "        semesterGrade = calculatePFgrade(grade)\n",
    "    else:\n",
    "        semesterGrade = calculateLettergrade(grade)\n",
    "    print('semestergrade', semesterGrade)  \n",
    "    \n",
    "def getAverageGrade():\n",
    "    midterm = int(input(\"Enter marks for the midterm :\"))\n",
    "    final = int(input(\"Enter marks for the final :\"))\n",
    "    return round((midterm + final)/ 2)\n",
    "              \n",
    "def getTypeOfStudent():\n",
    "    prompt = \"Enter type of student Pass/fail or letter :\"\n",
    "    typeOfStudent = input(prompt)\n",
    "    return typeOfStudent.upper()\n",
    "def calculatePFgrade(grade):\n",
    "    if grade >= '60':\n",
    "        return \"pass\"\n",
    "    else:\n",
    "        return \"fail\"\n",
    "\n",
    "def calculateLettergrade(grade):\n",
    "    if grade >= 90:\n",
    "        return \"A\"\n",
    "    elif grade >= 80:\n",
    "        return \"B\"\n",
    "    else:\n",
    "        return \"C\"\n",
    "   "
   ]
  },
  {
   "cell_type": "code",
   "execution_count": 26,
   "metadata": {
    "collapsed": false
   },
   "outputs": [
    {
     "name": "stdout",
     "output_type": "stream",
     "text": [
      "Enter marks for the midterm :80\n",
      "Enter marks for the final :90\n",
      "Enter type of student Pass/fail or letter :fail\n",
      "semestergrade B\n"
     ]
    }
   ],
   "source": [
    "main()"
   ]
  },
  {
   "cell_type": "code",
   "execution_count": 27,
   "metadata": {
    "collapsed": false
   },
   "outputs": [
    {
     "name": "stdout",
     "output_type": "stream",
     "text": [
      "Enter marks for the midterm :78\n",
      "Enter marks for the final :90\n",
      "Enter type of student Pass/fail or letter :fail\n",
      "semestergrade B\n"
     ]
    }
   ],
   "source": [
    "# testing another loop for fail\n",
    "main()"
   ]
  },
  {
   "cell_type": "code",
   "execution_count": 28,
   "metadata": {
    "collapsed": false
   },
   "outputs": [],
   "source": [
    "# 25\n",
    "# Max function\n",
    "def highnumber(list1):\n",
    "    mymax = list1[0]\n",
    "    for row in list1:\n",
    "        if row <= mymax:\n",
    "            row = mymax \n",
    "    return mymax\n",
    "            "
   ]
  },
  {
   "cell_type": "code",
   "execution_count": 29,
   "metadata": {
    "collapsed": false
   },
   "outputs": [
    {
     "data": {
      "text/plain": [
       "23"
      ]
     },
     "execution_count": 29,
     "metadata": {},
     "output_type": "execute_result"
    }
   ],
   "source": [
    "highnumber([23,20])"
   ]
  },
  {
   "cell_type": "code",
   "execution_count": 30,
   "metadata": {
    "collapsed": false
   },
   "outputs": [],
   "source": [
    "# 27\n",
    "def word():\n",
    "    a = str(input(\"Enter a word:\"))\n",
    "    a = a.upper()\n",
    "    if a.find(\"QWERTYUIOP\")>= 0 :\n",
    "        print(\"Yes input word \" + a +\" in QWERTYUIOP\")\n",
    "    else:\n",
    "        print(\"NO, word is not in QWERTYUIOP\")\n",
    "    return a       \n",
    "    "
   ]
  },
  {
   "cell_type": "code",
   "execution_count": 31,
   "metadata": {
    "collapsed": false
   },
   "outputs": [
    {
     "name": "stdout",
     "output_type": "stream",
     "text": [
      "Enter a word:werty\n",
      "NO, word is not in QWERTYUIOP\n"
     ]
    },
    {
     "data": {
      "text/plain": [
       "'WERTY'"
      ]
     },
     "execution_count": 31,
     "metadata": {},
     "output_type": "execute_result"
    }
   ],
   "source": [
    "word()"
   ]
  },
  {
   "cell_type": "code",
   "execution_count": 32,
   "metadata": {
    "collapsed": false
   },
   "outputs": [],
   "source": [
    "# 29\n",
    "# salary\n",
    "def salary():\n",
    "    a = int(input(\"Enter a option 1 or 2:\"))\n",
    "    if a == 1:\n",
    "        a = option1()\n",
    "    else:         \n",
    "        a = option2()\n",
    "        \n",
    "def option1():\n",
    "    b = 10*100\n",
    "    print(\"Salary would be:$\",b)\n",
    "    return b\n",
    "def option2():\n",
    "    c = int(input(\"Enter a number of days you worked:\"))\n",
    "    d = 102.3*(c)\n",
    "    print(\"your salary for option 2\", d)\n",
    "    return d \n",
    "    "
   ]
  },
  {
   "cell_type": "code",
   "execution_count": 33,
   "metadata": {
    "collapsed": false
   },
   "outputs": [
    {
     "name": "stdout",
     "output_type": "stream",
     "text": [
      "Enter a option 1 or 2:1\n",
      "Salary would be:$ 1000\n"
     ]
    }
   ],
   "source": [
    "# option 1\n",
    "salary()"
   ]
  },
  {
   "cell_type": "code",
   "execution_count": 34,
   "metadata": {
    "collapsed": false
   },
   "outputs": [
    {
     "name": "stdout",
     "output_type": "stream",
     "text": [
      "Enter a option 1 or 2:2\n",
      "Enter a number of days you worked:22\n",
      "your salary for option 2 2250.6\n"
     ]
    }
   ],
   "source": [
    "# option 2\n",
    "salary()"
   ]
  },
  {
   "cell_type": "code",
   "execution_count": 35,
   "metadata": {
    "collapsed": true
   },
   "outputs": [],
   "source": [
    "# 31"
   ]
  },
  {
   "cell_type": "code",
   "execution_count": 36,
   "metadata": {
    "collapsed": true
   },
   "outputs": [],
   "source": [
    "# 33"
   ]
  }
 ],
 "metadata": {
  "anaconda-cloud": {},
  "kernelspec": {
   "display_name": "Python [Root]",
   "language": "python",
   "name": "Python [Root]"
  },
  "language_info": {
   "codemirror_mode": {
    "name": "ipython",
    "version": 3
   },
   "file_extension": ".py",
   "mimetype": "text/x-python",
   "name": "python",
   "nbconvert_exporter": "python",
   "pygments_lexer": "ipython3",
   "version": "3.5.3"
  }
 },
 "nbformat": 4,
 "nbformat_minor": 0
}
